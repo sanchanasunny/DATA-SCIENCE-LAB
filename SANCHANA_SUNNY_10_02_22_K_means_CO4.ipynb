{
  "nbformat": 4,
  "nbformat_minor": 0,
  "metadata": {
    "colab": {
      "name": "SANCHANA SUNNY 10/02/22  K means -CO4",
      "provenance": [],
      "collapsed_sections": [],
      "include_colab_link": true
    },
    "kernelspec": {
      "name": "python3",
      "display_name": "Python 3"
    },
    "language_info": {
      "name": "python"
    }
  },
  "cells": [
    {
      "cell_type": "markdown",
      "metadata": {
        "id": "view-in-github",
        "colab_type": "text"
      },
      "source": [
        "<a href=\"https://colab.research.google.com/github/sanchanasunny/DATA-SCIENCE-LAB/blob/main/SANCHANA_SUNNY_10_02_22_K_means_CO4.ipynb\" target=\"_parent\"><img src=\"https://colab.research.google.com/assets/colab-badge.svg\" alt=\"Open In Colab\"/></a>"
      ]
    },
    {
      "cell_type": "markdown",
      "metadata": {
        "id": "oHEruqrlZewu"
      },
      "source": [
        "#### Problem Statement\n",
        "\n",
        "Program to implement k-means clustering technique using any standard dataset available in the public domain"
      ]
    },
    {
      "cell_type": "markdown",
      "metadata": {
        "id": "qIVNEyp4Mrem"
      },
      "source": [
        "---"
      ]
    },
    {
      "cell_type": "markdown",
      "metadata": {
        "id": "2LpOy28nkFG_"
      },
      "source": [
        "### Dataset Description\n",
        "\n",
        "In this project, we will be using the dataset holding the information of carbon dioxide emission from different car models.\n",
        "\n",
        "The dataset includes 36 instances with 5 columns which can be briefed as:\n",
        "\n",
        "|Column|Description|\n",
        "|-|-|\n",
        "|Car|Brand of the car|\n",
        "|||\n",
        "|Model|Model of the car|\n",
        "|||\n",
        "|Volume|Total space available inside the car (in $litres$)|\n",
        "|||\n",
        "|Weight|Total weightof the car (in $kg$)|\n",
        "|||\n",
        "|$CO_2$|Total emission of carbon dioxide from the car|\n",
        "|||\n",
        "\n",
        "\n",
        "\n",
        "**Note:** *(This is a manually created custom dataset for this project.*)"
      ]
    },
    {
      "cell_type": "markdown",
      "metadata": {
        "id": "83FgC947OzV4"
      },
      "source": [
        "---"
      ]
    },
    {
      "cell_type": "markdown",
      "metadata": {
        "id": "dkkg2QzEu3lP"
      },
      "source": [
        "### List of Activities\n",
        " \n",
        "**Activity 1:** Import Modules and Read Data\n",
        "\n",
        "**Activity 2:** Data Cleaning\n",
        "  \n",
        "**Activity 3:** Find Optimal Value of `K`\n",
        "\n",
        "**Activity 4:** Plot Silhouette Scores"
      ]
    },
    {
      "cell_type": "markdown",
      "metadata": {
        "id": "DQSgqaR1lire"
      },
      "source": [
        "#### Activity 1: Import Modules and Read Data\n",
        "\n",
        "Import the necessary Python modules along with the following modules:\n",
        "\n",
        " - `KMeans` - For clustering using K-means. \n",
        "\n",
        " - `re` - To remove unwanted rows using regex.\n",
        "\n",
        "Read the data from a CSV file to create a Pandas DataFrame and go through the necessary data-cleaning process (if required).\n",
        "\n",
        "**Dataset link:** https://raw.githubusercontent.com/jiss-sngce/CO_3/main/jkcars.csv"
      ]
    },
    {
      "cell_type": "code",
      "source": [
        "import numpy as np\n",
        "import pandas as pd\n",
        "df=pd.read_csv('https://raw.githubusercontent.com/jiss-sngce/CO_3/main/jkcars.csv')\n",
        "df.head()\n",
        "\n",
        "new_df=df[['Volume','Weight','CO2']]\n",
        "new_df.head()\n",
        "\n",
        "from sklearn.cluster import KMeans\n",
        "wcss = []\n",
        "clusters = range(2,11)\n",
        "\n",
        "for k in clusters:\n",
        "  kmean_k = KMeans (n_clusters = k, random_state=10)\n",
        "  kmean_k.fit(new_df)\n",
        "  wcss.append(kmean_k.inertia_)\n",
        "\n",
        "\n",
        "plt.figure(figsize=(14,5))\n",
        "plt.title('Within Cluster Sum of Squares')\n",
        "plt.plot(clusters,wcss)\n",
        "plt.xlabel(\"K\")\n",
        "plt.ylabel(\"WCSS\")\n",
        "plt.grid()\n",
        "plt.show()\n",
        "\n"
      ],
      "metadata": {
        "colab": {
          "base_uri": "https://localhost:8080/",
          "height": 350
        },
        "id": "IuQt4nvP6qiw",
        "outputId": "b579e9aa-1d29-4989-da40-d320dc764469"
      },
      "execution_count": null,
      "outputs": [
        {
          "output_type": "display_data",
          "data": {
            "image/png": "[encoded data removed]",
            "text/plain": [
              "<Figure size 1008x360 with 1 Axes>"
            ]
          },
          "metadata": {
            "needs_background": "light"
          }
        }
      ]
    },
    {
      "cell_type": "code",
      "metadata": {
        "id": "4AWWc0FxkxCq",
        "colab": {
          "base_uri": "https://localhost:8080/",
          "height": 206
        },
        "outputId": "bb670ff8-8f5c-46e1-9060-b61e2c857259"
      },
      "source": [
        "# Import the modules and Read the data.\n",
        "import numpy as np\n",
        "import pandas as pd\n",
        "df=pd.read_csv('https://raw.githubusercontent.com/jiss-sngce/CO_3/main/jkcars.csv')\n",
        "# Print the first five records\n",
        "df.head()\n"
      ],
      "execution_count": null,
      "outputs": [
        {
          "output_type": "execute_result",
          "data": {
            "text/html": [
              "\n",
              "  <div id=\"df-ee371007-e35f-461d-8cca-24d5fad09ac0\">\n",
              "    <div class=\"colab-df-container\">\n",
              "      <div>\n",
              "<style scoped>\n",
              "    .dataframe tbody tr th:only-of-type {\n",
              "        vertical-align: middle;\n",
              "    }\n",
              "\n",
              "    .dataframe tbody tr th {\n",
              "        vertical-align: top;\n",
              "    }\n",
              "\n",
              "    .dataframe thead th {\n",
              "        text-align: right;\n",
              "    }\n",
              "</style>\n",
              "<table border=\"1\" class=\"dataframe\">\n",
              "  <thead>\n",
              "    <tr style=\"text-align: right;\">\n",
              "      <th></th>\n",
              "      <th>Car</th>\n",
              "      <th>Model</th>\n",
              "      <th>Volume</th>\n",
              "      <th>Weight</th>\n",
              "      <th>CO2</th>\n",
              "    </tr>\n",
              "  </thead>\n",
              "  <tbody>\n",
              "    <tr>\n",
              "      <th>0</th>\n",
              "      <td>Mitsubishi</td>\n",
              "      <td>Space Star</td>\n",
              "      <td>1200</td>\n",
              "      <td>1160</td>\n",
              "      <td>95</td>\n",
              "    </tr>\n",
              "    <tr>\n",
              "      <th>1</th>\n",
              "      <td>Skoda</td>\n",
              "      <td>Citigo</td>\n",
              "      <td>1000</td>\n",
              "      <td>929</td>\n",
              "      <td>95</td>\n",
              "    </tr>\n",
              "    <tr>\n",
              "      <th>2</th>\n",
              "      <td>Fiat</td>\n",
              "      <td>500</td>\n",
              "      <td>900</td>\n",
              "      <td>865</td>\n",
              "      <td>90</td>\n",
              "    </tr>\n",
              "    <tr>\n",
              "      <th>3</th>\n",
              "      <td>Mini</td>\n",
              "      <td>Cooper</td>\n",
              "      <td>1500</td>\n",
              "      <td>1140</td>\n",
              "      <td>105</td>\n",
              "    </tr>\n",
              "    <tr>\n",
              "      <th>4</th>\n",
              "      <td>VW</td>\n",
              "      <td>Up!</td>\n",
              "      <td>1000</td>\n",
              "      <td>929</td>\n",
              "      <td>105</td>\n",
              "    </tr>\n",
              "  </tbody>\n",
              "</table>\n",
              "</div>\n",
              "      <button class=\"colab-df-convert\" onclick=\"convertToInteractive('df-ee371007-e35f-461d-8cca-24d5fad09ac0')\"\n",
              "              title=\"Convert this dataframe to an interactive table.\"\n",
              "              style=\"display:none;\">\n",
              "        \n",
              "  <svg xmlns=\"http://www.w3.org/2000/svg\" height=\"24px\"viewBox=\"0 0 24 24\"\n",
              "       width=\"24px\">\n",
              "    <path d=\"M0 0h24v24H0V0z\" fill=\"none\"/>\n",
              "    <path d=\"M18.56 5.44l.94 2.06.94-2.06 2.06-.94-2.06-.94-.94-2.06-.94 2.06-2.06.94zm-11 1L8.5 8.5l.94-2.06 2.06-.94-2.06-.94L8.5 2.5l-.94 2.06-2.06.94zm10 10l.94 2.06.94-2.06 2.06-.94-2.06-.94-.94-2.06-.94 2.06-2.06.94z\"/><path d=\"M17.41 7.96l-1.37-1.37c-.4-.4-.92-.59-1.43-.59-.52 0-1.04.2-1.43.59L10.3 9.45l-7.72 7.72c-.78.78-.78 2.05 0 2.83L4 21.41c.39.39.9.59 1.41.59.51 0 1.02-.2 1.41-.59l7.78-7.78 2.81-2.81c.8-.78.8-2.07 0-2.86zM5.41 20L4 18.59l7.72-7.72 1.47 1.35L5.41 20z\"/>\n",
              "  </svg>\n",
              "      </button>\n",
              "      \n",
              "  <style>\n",
              "    .colab-df-container {\n",
              "      display:flex;\n",
              "      flex-wrap:wrap;\n",
              "      gap: 12px;\n",
              "    }\n",
              "\n",
              "    .colab-df-convert {\n",
              "      background-color: #E8F0FE;\n",
              "      border: none;\n",
              "      border-radius: 50%;\n",
              "      cursor: pointer;\n",
              "      display: none;\n",
              "      fill: #1967D2;\n",
              "      height: 32px;\n",
              "      padding: 0 0 0 0;\n",
              "      width: 32px;\n",
              "    }\n",
              "\n",
              "    .colab-df-convert:hover {\n",
              "      background-color: #E2EBFA;\n",
              "      box-shadow: 0px 1px 2px rgba(60, 64, 67, 0.3), 0px 1px 3px 1px rgba(60, 64, 67, 0.15);\n",
              "      fill: #174EA6;\n",
              "    }\n",
              "\n",
              "    [theme=dark] .colab-df-convert {\n",
              "      background-color: #3B4455;\n",
              "      fill: #D2E3FC;\n",
              "    }\n",
              "\n",
              "    [theme=dark] .colab-df-convert:hover {\n",
              "      background-color: #434B5C;\n",
              "      box-shadow: 0px 1px 3px 1px rgba(0, 0, 0, 0.15);\n",
              "      filter: drop-shadow(0px 1px 2px rgba(0, 0, 0, 0.3));\n",
              "      fill: #FFFFFF;\n",
              "    }\n",
              "  </style>\n",
              "\n",
              "      <script>\n",
              "        const buttonEl =\n",
              "          document.querySelector('#df-ee371007-e35f-461d-8cca-24d5fad09ac0 button.colab-df-convert');\n",
              "        buttonEl.style.display =\n",
              "          google.colab.kernel.accessAllowed ? 'block' : 'none';\n",
              "\n",
              "        async function convertToInteractive(key) {\n",
              "          const element = document.querySelector('#df-ee371007-e35f-461d-8cca-24d5fad09ac0');\n",
              "          const dataTable =\n",
              "            await google.colab.kernel.invokeFunction('convertToInteractive',\n",
              "                                                     [key], {});\n",
              "          if (!dataTable) return;\n",
              "\n",
              "          const docLinkHtml = 'Like what you see? Visit the ' +\n",
              "            '<a target=\"_blank\" href=https://colab.research.google.com/notebooks/data_table.ipynb>data table notebook</a>'\n",
              "            + ' to learn more about interactive tables.';\n",
              "          element.innerHTML = '';\n",
              "          dataTable['output_type'] = 'display_data';\n",
              "          await google.colab.output.renderOutput(dataTable, element);\n",
              "          const docLink = document.createElement('div');\n",
              "          docLink.innerHTML = docLinkHtml;\n",
              "          element.appendChild(docLink);\n",
              "        }\n",
              "      </script>\n",
              "    </div>\n",
              "  </div>\n",
              "  "
            ],
            "text/plain": [
              "          Car       Model  Volume  Weight  CO2\n",
              "0  Mitsubishi  Space Star    1200    1160   95\n",
              "1       Skoda      Citigo    1000     929   95\n",
              "2        Fiat         500     900     865   90\n",
              "3        Mini      Cooper    1500    1140  105\n",
              "4          VW         Up!    1000     929  105"
            ]
          },
          "metadata": {},
          "execution_count": 19
        }
      ]
    },
    {
      "cell_type": "code",
      "metadata": {
        "id": "dzOUTaxED7up",
        "colab": {
          "base_uri": "https://localhost:8080/"
        },
        "outputId": "6d28a4c7-8b97-40cc-e97c-260db941b2a1"
      },
      "source": [
        "# Get the total number of rows and columns, data types of columns and missing values (if exist) in the dataset. \n",
        "df.shape\n",
        "df.dtypes\n",
        "df.isnull().sum()"
      ],
      "execution_count": null,
      "outputs": [
        {
          "output_type": "execute_result",
          "data": {
            "text/plain": [
              "Car       0\n",
              "Model     0\n",
              "Volume    0\n",
              "Weight    0\n",
              "CO2       0\n",
              "dtype: int64"
            ]
          },
          "metadata": {},
          "execution_count": 20
        }
      ]
    },
    {
      "cell_type": "markdown",
      "metadata": {
        "id": "WUBRx1doWIK2"
      },
      "source": [
        "\n",
        "\n",
        "\n",
        "#### Activity 3: Find Optimal value of K\n",
        "\n",
        "In this activity, you need to find the optimal value of `K` using the silhouette score.\n",
        "\n",
        "1. Create a subset of the dataset consisting of three columns i.e `Volume`, `Weight`, and `CO2`.\n",
        "\n"
      ]
    },
    {
      "cell_type": "code",
      "metadata": {
        "id": "EX2n4Dj877S8",
        "colab": {
          "base_uri": "https://localhost:8080/",
          "height": 206
        },
        "outputId": "833ed866-86e5-4e08-af0a-93c7b42d9471"
      },
      "source": [
        "# Create a new DataFrame consisting of three columns 'Volume', 'Weight', 'CO2'. \n",
        "new_df=df[['Volume','Weight','CO2']]\n",
        "\n",
        "# Print the first 5 rows of this new DataFrame.\n",
        "new_df.head()"
      ],
      "execution_count": null,
      "outputs": [
        {
          "output_type": "execute_result",
          "data": {
            "text/html": [
              "\n",
              "  <div id=\"df-da8dd31d-7e47-4e5f-b859-9c3185de05d7\">\n",
              "    <div class=\"colab-df-container\">\n",
              "      <div>\n",
              "<style scoped>\n",
              "    .dataframe tbody tr th:only-of-type {\n",
              "        vertical-align: middle;\n",
              "    }\n",
              "\n",
              "    .dataframe tbody tr th {\n",
              "        vertical-align: top;\n",
              "    }\n",
              "\n",
              "    .dataframe thead th {\n",
              "        text-align: right;\n",
              "    }\n",
              "</style>\n",
              "<table border=\"1\" class=\"dataframe\">\n",
              "  <thead>\n",
              "    <tr style=\"text-align: right;\">\n",
              "      <th></th>\n",
              "      <th>Volume</th>\n",
              "      <th>Weight</th>\n",
              "      <th>CO2</th>\n",
              "    </tr>\n",
              "  </thead>\n",
              "  <tbody>\n",
              "    <tr>\n",
              "      <th>0</th>\n",
              "      <td>1200</td>\n",
              "      <td>1160</td>\n",
              "      <td>95</td>\n",
              "    </tr>\n",
              "    <tr>\n",
              "      <th>1</th>\n",
              "      <td>1000</td>\n",
              "      <td>929</td>\n",
              "      <td>95</td>\n",
              "    </tr>\n",
              "    <tr>\n",
              "      <th>2</th>\n",
              "      <td>900</td>\n",
              "      <td>865</td>\n",
              "      <td>90</td>\n",
              "    </tr>\n",
              "    <tr>\n",
              "      <th>3</th>\n",
              "      <td>1500</td>\n",
              "      <td>1140</td>\n",
              "      <td>105</td>\n",
              "    </tr>\n",
              "    <tr>\n",
              "      <th>4</th>\n",
              "      <td>1000</td>\n",
              "      <td>929</td>\n",
              "      <td>105</td>\n",
              "    </tr>\n",
              "  </tbody>\n",
              "</table>\n",
              "</div>\n",
              "      <button class=\"colab-df-convert\" onclick=\"convertToInteractive('df-da8dd31d-7e47-4e5f-b859-9c3185de05d7')\"\n",
              "              title=\"Convert this dataframe to an interactive table.\"\n",
              "              style=\"display:none;\">\n",
              "        \n",
              "  <svg xmlns=\"http://www.w3.org/2000/svg\" height=\"24px\"viewBox=\"0 0 24 24\"\n",
              "       width=\"24px\">\n",
              "    <path d=\"M0 0h24v24H0V0z\" fill=\"none\"/>\n",
              "    <path d=\"M18.56 5.44l.94 2.06.94-2.06 2.06-.94-2.06-.94-.94-2.06-.94 2.06-2.06.94zm-11 1L8.5 8.5l.94-2.06 2.06-.94-2.06-.94L8.5 2.5l-.94 2.06-2.06.94zm10 10l.94 2.06.94-2.06 2.06-.94-2.06-.94-.94-2.06-.94 2.06-2.06.94z\"/><path d=\"M17.41 7.96l-1.37-1.37c-.4-.4-.92-.59-1.43-.59-.52 0-1.04.2-1.43.59L10.3 9.45l-7.72 7.72c-.78.78-.78 2.05 0 2.83L4 21.41c.39.39.9.59 1.41.59.51 0 1.02-.2 1.41-.59l7.78-7.78 2.81-2.81c.8-.78.8-2.07 0-2.86zM5.41 20L4 18.59l7.72-7.72 1.47 1.35L5.41 20z\"/>\n",
              "  </svg>\n",
              "      </button>\n",
              "      \n",
              "  <style>\n",
              "    .colab-df-container {\n",
              "      display:flex;\n",
              "      flex-wrap:wrap;\n",
              "      gap: 12px;\n",
              "    }\n",
              "\n",
              "    .colab-df-convert {\n",
              "      background-color: #E8F0FE;\n",
              "      border: none;\n",
              "      border-radius: 50%;\n",
              "      cursor: pointer;\n",
              "      display: none;\n",
              "      fill: #1967D2;\n",
              "      height: 32px;\n",
              "      padding: 0 0 0 0;\n",
              "      width: 32px;\n",
              "    }\n",
              "\n",
              "    .colab-df-convert:hover {\n",
              "      background-color: #E2EBFA;\n",
              "      box-shadow: 0px 1px 2px rgba(60, 64, 67, 0.3), 0px 1px 3px 1px rgba(60, 64, 67, 0.15);\n",
              "      fill: #174EA6;\n",
              "    }\n",
              "\n",
              "    [theme=dark] .colab-df-convert {\n",
              "      background-color: #3B4455;\n",
              "      fill: #D2E3FC;\n",
              "    }\n",
              "\n",
              "    [theme=dark] .colab-df-convert:hover {\n",
              "      background-color: #434B5C;\n",
              "      box-shadow: 0px 1px 3px 1px rgba(0, 0, 0, 0.15);\n",
              "      filter: drop-shadow(0px 1px 2px rgba(0, 0, 0, 0.3));\n",
              "      fill: #FFFFFF;\n",
              "    }\n",
              "  </style>\n",
              "\n",
              "      <script>\n",
              "        const buttonEl =\n",
              "          document.querySelector('#df-da8dd31d-7e47-4e5f-b859-9c3185de05d7 button.colab-df-convert');\n",
              "        buttonEl.style.display =\n",
              "          google.colab.kernel.accessAllowed ? 'block' : 'none';\n",
              "\n",
              "        async function convertToInteractive(key) {\n",
              "          const element = document.querySelector('#df-da8dd31d-7e47-4e5f-b859-9c3185de05d7');\n",
              "          const dataTable =\n",
              "            await google.colab.kernel.invokeFunction('convertToInteractive',\n",
              "                                                     [key], {});\n",
              "          if (!dataTable) return;\n",
              "\n",
              "          const docLinkHtml = 'Like what you see? Visit the ' +\n",
              "            '<a target=\"_blank\" href=https://colab.research.google.com/notebooks/data_table.ipynb>data table notebook</a>'\n",
              "            + ' to learn more about interactive tables.';\n",
              "          element.innerHTML = '';\n",
              "          dataTable['output_type'] = 'display_data';\n",
              "          await google.colab.output.renderOutput(dataTable, element);\n",
              "          const docLink = document.createElement('div');\n",
              "          docLink.innerHTML = docLinkHtml;\n",
              "          element.appendChild(docLink);\n",
              "        }\n",
              "      </script>\n",
              "    </div>\n",
              "  </div>\n",
              "  "
            ],
            "text/plain": [
              "   Volume  Weight  CO2\n",
              "0    1200    1160   95\n",
              "1    1000     929   95\n",
              "2     900     865   90\n",
              "3    1500    1140  105\n",
              "4    1000     929  105"
            ]
          },
          "metadata": {},
          "execution_count": 21
        }
      ]
    },
    {
      "cell_type": "markdown",
      "metadata": {
        "id": "7-1yTKcAXb2i"
      },
      "source": [
        "2. Compute K-Means clustering for the 3D dataset `data_3d` by varying `K` from `2` to `10` clusters. Also, for each `K`, calculate silhouette score using `silhouette_score` function. \n",
        "\n",
        " **Steps to Follow**\n",
        "\n",
        " - Create an empty list to store silhouette scores obtained for each `K` (let's say `sil_scores`).\n",
        "\n",
        " - Initiate a `for` loop that ranges from 2 to 10.\n",
        "\n",
        " -  Perform K-means clustering for the current value of `K` inside `for` loop. \n",
        "    \n",
        " - Use `fit()` and `predict()` to create clusters.\n",
        "\n",
        " - Calculate silhouette score for current `K` value using `silhouette_score()` function and append it to the empty list `sil_scores`.\n",
        "\n",
        " - Create a DataFrame with two columns. The first column must contain `K` values from 2 to 10 and the second column must contain silhouette values obtained after the `for` loop.\n",
        "\n"
      ]
    },
    {
      "cell_type": "code",
      "metadata": {
        "id": "uegp6f22W2vA",
        "colab": {
          "base_uri": "https://localhost:8080/",
          "height": 332
        },
        "outputId": "95af4bac-9f8c-45fd-b323-c917201dbf08"
      },
      "source": [
        "# Calculate inertia for different values of 'K'.\n",
        "from sklearn.metrics import silhouette_score\n",
        "from sklearn.cluster import KMeans \n",
        "# Create an empty list to store silhouette scores obtained for each 'K' \n",
        "sil_scores = []\n",
        "clusters = range(2,11)\n",
        "\n",
        "for k in clusters:\n",
        "  kmean_k = KMeans (n_clusters = k, random_state=10)\n",
        "  kmean_k.fit(new_df)\n",
        "  cluster_labels = kmean_k.predict(new_df)\n",
        "  sil_scores.append(silhouette_score(new_df,cluster_labels))\n",
        "\n",
        "sil_data = pd.DataFrame({'K value':clusters,'silhouette_score':sil_scores})\n",
        "sil_data"
      ],
      "execution_count": null,
      "outputs": [
        {
          "output_type": "execute_result",
          "data": {
            "text/html": [
              "\n",
              "  <div id=\"df-e4d2d454-b67d-4ddc-a274-0ddc7c894d2a\">\n",
              "    <div class=\"colab-df-container\">\n",
              "      <div>\n",
              "<style scoped>\n",
              "    .dataframe tbody tr th:only-of-type {\n",
              "        vertical-align: middle;\n",
              "    }\n",
              "\n",
              "    .dataframe tbody tr th {\n",
              "        vertical-align: top;\n",
              "    }\n",
              "\n",
              "    .dataframe thead th {\n",
              "        text-align: right;\n",
              "    }\n",
              "</style>\n",
              "<table border=\"1\" class=\"dataframe\">\n",
              "  <thead>\n",
              "    <tr style=\"text-align: right;\">\n",
              "      <th></th>\n",
              "      <th>K value</th>\n",
              "      <th>silhouette_score</th>\n",
              "    </tr>\n",
              "  </thead>\n",
              "  <tbody>\n",
              "    <tr>\n",
              "      <th>0</th>\n",
              "      <td>2</td>\n",
              "      <td>0.466982</td>\n",
              "    </tr>\n",
              "    <tr>\n",
              "      <th>1</th>\n",
              "      <td>3</td>\n",
              "      <td>0.569304</td>\n",
              "    </tr>\n",
              "    <tr>\n",
              "      <th>2</th>\n",
              "      <td>4</td>\n",
              "      <td>0.506027</td>\n",
              "    </tr>\n",
              "    <tr>\n",
              "      <th>3</th>\n",
              "      <td>5</td>\n",
              "      <td>0.537547</td>\n",
              "    </tr>\n",
              "    <tr>\n",
              "      <th>4</th>\n",
              "      <td>6</td>\n",
              "      <td>0.549792</td>\n",
              "    </tr>\n",
              "    <tr>\n",
              "      <th>5</th>\n",
              "      <td>7</td>\n",
              "      <td>0.525962</td>\n",
              "    </tr>\n",
              "    <tr>\n",
              "      <th>6</th>\n",
              "      <td>8</td>\n",
              "      <td>0.509034</td>\n",
              "    </tr>\n",
              "    <tr>\n",
              "      <th>7</th>\n",
              "      <td>9</td>\n",
              "      <td>0.461402</td>\n",
              "    </tr>\n",
              "    <tr>\n",
              "      <th>8</th>\n",
              "      <td>10</td>\n",
              "      <td>0.434958</td>\n",
              "    </tr>\n",
              "  </tbody>\n",
              "</table>\n",
              "</div>\n",
              "      <button class=\"colab-df-convert\" onclick=\"convertToInteractive('df-e4d2d454-b67d-4ddc-a274-0ddc7c894d2a')\"\n",
              "              title=\"Convert this dataframe to an interactive table.\"\n",
              "              style=\"display:none;\">\n",
              "        \n",
              "  <svg xmlns=\"http://www.w3.org/2000/svg\" height=\"24px\"viewBox=\"0 0 24 24\"\n",
              "       width=\"24px\">\n",
              "    <path d=\"M0 0h24v24H0V0z\" fill=\"none\"/>\n",
              "    <path d=\"M18.56 5.44l.94 2.06.94-2.06 2.06-.94-2.06-.94-.94-2.06-.94 2.06-2.06.94zm-11 1L8.5 8.5l.94-2.06 2.06-.94-2.06-.94L8.5 2.5l-.94 2.06-2.06.94zm10 10l.94 2.06.94-2.06 2.06-.94-2.06-.94-.94-2.06-.94 2.06-2.06.94z\"/><path d=\"M17.41 7.96l-1.37-1.37c-.4-.4-.92-.59-1.43-.59-.52 0-1.04.2-1.43.59L10.3 9.45l-7.72 7.72c-.78.78-.78 2.05 0 2.83L4 21.41c.39.39.9.59 1.41.59.51 0 1.02-.2 1.41-.59l7.78-7.78 2.81-2.81c.8-.78.8-2.07 0-2.86zM5.41 20L4 18.59l7.72-7.72 1.47 1.35L5.41 20z\"/>\n",
              "  </svg>\n",
              "      </button>\n",
              "      \n",
              "  <style>\n",
              "    .colab-df-container {\n",
              "      display:flex;\n",
              "      flex-wrap:wrap;\n",
              "      gap: 12px;\n",
              "    }\n",
              "\n",
              "    .colab-df-convert {\n",
              "      background-color: #E8F0FE;\n",
              "      border: none;\n",
              "      border-radius: 50%;\n",
              "      cursor: pointer;\n",
              "      display: none;\n",
              "      fill: #1967D2;\n",
              "      height: 32px;\n",
              "      padding: 0 0 0 0;\n",
              "      width: 32px;\n",
              "    }\n",
              "\n",
              "    .colab-df-convert:hover {\n",
              "      background-color: #E2EBFA;\n",
              "      box-shadow: 0px 1px 2px rgba(60, 64, 67, 0.3), 0px 1px 3px 1px rgba(60, 64, 67, 0.15);\n",
              "      fill: #174EA6;\n",
              "    }\n",
              "\n",
              "    [theme=dark] .colab-df-convert {\n",
              "      background-color: #3B4455;\n",
              "      fill: #D2E3FC;\n",
              "    }\n",
              "\n",
              "    [theme=dark] .colab-df-convert:hover {\n",
              "      background-color: #434B5C;\n",
              "      box-shadow: 0px 1px 3px 1px rgba(0, 0, 0, 0.15);\n",
              "      filter: drop-shadow(0px 1px 2px rgba(0, 0, 0, 0.3));\n",
              "      fill: #FFFFFF;\n",
              "    }\n",
              "  </style>\n",
              "\n",
              "      <script>\n",
              "        const buttonEl =\n",
              "          document.querySelector('#df-e4d2d454-b67d-4ddc-a274-0ddc7c894d2a button.colab-df-convert');\n",
              "        buttonEl.style.display =\n",
              "          google.colab.kernel.accessAllowed ? 'block' : 'none';\n",
              "\n",
              "        async function convertToInteractive(key) {\n",
              "          const element = document.querySelector('#df-e4d2d454-b67d-4ddc-a274-0ddc7c894d2a');\n",
              "          const dataTable =\n",
              "            await google.colab.kernel.invokeFunction('convertToInteractive',\n",
              "                                                     [key], {});\n",
              "          if (!dataTable) return;\n",
              "\n",
              "          const docLinkHtml = 'Like what you see? Visit the ' +\n",
              "            '<a target=\"_blank\" href=https://colab.research.google.com/notebooks/data_table.ipynb>data table notebook</a>'\n",
              "            + ' to learn more about interactive tables.';\n",
              "          element.innerHTML = '';\n",
              "          dataTable['output_type'] = 'display_data';\n",
              "          await google.colab.output.renderOutput(dataTable, element);\n",
              "          const docLink = document.createElement('div');\n",
              "          docLink.innerHTML = docLinkHtml;\n",
              "          element.appendChild(docLink);\n",
              "        }\n",
              "      </script>\n",
              "    </div>\n",
              "  </div>\n",
              "  "
            ],
            "text/plain": [
              "   K value  silhouette_score\n",
              "0        2          0.466982\n",
              "1        3          0.569304\n",
              "2        4          0.506027\n",
              "3        5          0.537547\n",
              "4        6          0.549792\n",
              "5        7          0.525962\n",
              "6        8          0.509034\n",
              "7        9          0.461402\n",
              "8       10          0.434958"
            ]
          },
          "metadata": {},
          "execution_count": 22
        }
      ]
    },
    {
      "cell_type": "markdown",
      "metadata": {
        "id": "TGMrFlX9aPdo"
      },
      "source": [
        "**Q**: What are the maximum silhouette score and the corresponding cluster value?\n",
        "\n",
        "**A**: \n",
        "- Maximum silhouette score: 0.569304\n",
        "\n",
        "- Corresponding cluster value: 3"
      ]
    },
    {
      "cell_type": "markdown",
      "metadata": {
        "id": "TWE7ZDxGbmQA"
      },
      "source": [
        "---"
      ]
    },
    {
      "cell_type": "markdown",
      "metadata": {
        "id": "rXgykGx8bm-j"
      },
      "source": [
        "#### Activity 4: Plot silhouette Scores & WCSS Scores to find optimal value for K\n",
        "\n",
        "Create a line plot with `K` ranging from `2` to `10`  on the $x$-axis and the silhouette scores stored in `sil_scores` list on the $y$-axis. "
      ]
    },
    {
      "cell_type": "code",
      "metadata": {
        "id": "4gm40-36W8np",
        "colab": {
          "base_uri": "https://localhost:8080/",
          "height": 350
        },
        "outputId": "a7180a7f-4e99-4d65-ab55-c75637868929"
      },
      "source": [
        "# Plot silhouette scores vs number of clusters.\n",
        "import matplotlib.pyplot as plt\n",
        "import numpy as np\n",
        "x = np.arange(2,11)\n",
        "plt.figure(figsize=(14,5))\n",
        "plt.title(\"SILHOUTTE SCORES\")\n",
        "plt.xlabel(\"K\")\n",
        "plt.ylabel(\"Silhouette scores\")\n",
        "y = (sil_scores)\n",
        "plt.plot(x,y)\n",
        "plt.grid()\n",
        "plt.show()\n"
      ],
      "execution_count": null,
      "outputs": [
        {
          "output_type": "display_data",
          "data": {
            "image/png": "[encoded data removed]",
            "text/plain": [
              "<Figure size 1008x360 with 1 Axes>"
            ]
          },
          "metadata": {
            "needs_background": "light"
          }
        }
      ]
    },
    {
      "cell_type": "markdown",
      "metadata": {
        "id": "9u7qXlwKbvQ7"
      },
      "source": [
        "**Q:** Write your observations of the graph.\n",
        "\n",
        "**A:** From the graph, we can conclude that the optimal value of `K` is 3."
      ]
    },
    {
      "cell_type": "code",
      "source": [
        "# S3.1: Determine 'K' using Elbow method.\n",
        "from sklearn.metrics import silhouette_score\n",
        "from sklearn.cluster import KMeans\n",
        "wcss = []\n",
        "clusters = range(2,11)\n",
        "\n",
        "# Initiate a for loop that ranges from 1 to 10.\n",
        "for k in clusters:\n",
        "\n",
        "\n",
        "# Inside for loop, perform K-means clustering for current value of K. Use 'fit()' t\n",
        "  kmean_k = KMeans (n_clusters = k, random_state=10)\n",
        "  kmean_k.fit(new_df)\n",
        "# Find wcss for current K value using 'inertia_' attribute and append it to the emp\n",
        "  wcss.append(kmean_k.inertia_)\n",
        "# Plot WCSS vs number of clusters.\n",
        "plt.figure(figsize=(14,5))\n",
        "plt.title('Within Cluster Sum of Squares')\n",
        "plt.plot(clusters,wcss)\n",
        "plt.xlabel(\"K\")\n",
        "plt.ylabel(\"WCSS\")\n",
        "plt.grid()\n",
        "plt.show()"
      ],
      "metadata": {
        "colab": {
          "base_uri": "https://localhost:8080/",
          "height": 350
        },
        "id": "3x77mbMW7JaG",
        "outputId": "a9c14ba3-1c00-42a0-ae2b-16a239245db1"
      },
      "execution_count": null,
      "outputs": [
        {
          "output_type": "display_data",
          "data": {
            "image/png": "[encoded data removed]",
            "text/plain": [
              "<Figure size 1008x360 with 1 Axes>"
            ]
          },
          "metadata": {
            "needs_background": "light"
          }
        }
      ]
    },
    {
      "cell_type": "code",
      "source": [
        "wcss_df = pd.DataFrame({'K value':clusters,'wcss':wcss})\n",
        "wcss_df"
      ],
      "metadata": {
        "id": "7Euhg0iKdFkX"
      },
      "execution_count": null,
      "outputs": []
    },
    {
      "cell_type": "code",
      "source": [
        "# Clustering the dataset for K = 3\n",
        "from sklearn.cluster import KMeans\n",
        "\n",
        "# Perform K-Means clustering with n_clusters = 4 and random_state = 10\n",
        "kmeans_model=KMeans(n_clusters=3 , random_state=10)\n",
        "\n",
        "# Fit the model to the scaled_df\n",
        "kmeans_model.fit(new_df)\n",
        "\n",
        "\n",
        "# Make a series using predictions by K-Means\n",
        "cluster_labels=pd.Series(kmeans_model.predict(new_df))\n",
        "cluster_labels.value_counts()"
      ],
      "metadata": {
        "id": "P7DeDzA-DXUF"
      },
      "execution_count": null,
      "outputs": []
    },
    {
      "cell_type": "code",
      "source": [
        "# Create a DataFrame with cluster labels for cluster visualisation \n",
        "km_df=pd.concat([df,cluster_labels],axis=1)\n",
        "km_df.columns=list(df.columns )+['cluster']\n",
        "km_df"
      ],
      "metadata": {
        "id": "l1CtXVAmD_NT"
      },
      "execution_count": null,
      "outputs": []
    },
    {
      "cell_type": "markdown",
      "metadata": {
        "id": "c9YWSN-SVu2r"
      },
      "source": [
        "---"
      ]
    }
  ]
}